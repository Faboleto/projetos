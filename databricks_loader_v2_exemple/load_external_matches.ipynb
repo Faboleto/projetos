{
 "cells": [
  {
   "cell_type": "code",
   "execution_count": 0,
   "metadata": {
    "application/vnd.databricks.v1+cell": {
     "cellMetadata": {
      "byteLimit": 2048000,
      "rowLimit": 10000
     },
     "inputWidgets": {},
     "nuid": "15b1ac12-42e3-47a5-9289-f9320c352b85",
     "showTitle": false,
     "tableResultSettingsMap": {},
     "title": ""
    },
    "jupyter": {
     "source_hidden": true
    }
   },
   "outputs": [],
   "source": [
    "%load_ext autoreload\n",
    "%autoreload 2"
   ]
  },
  {
   "cell_type": "code",
   "execution_count": 0,
   "metadata": {
    "application/vnd.databricks.v1+cell": {
     "cellMetadata": {
      "byteLimit": 2048000,
      "rowLimit": 10000
     },
     "inputWidgets": {},
     "nuid": "21d80a09-5077-48b7-8198-af4babc9cdc9",
     "showTitle": false,
     "tableResultSettingsMap": {},
     "title": ""
    },
    "jupyter": {
     "source_hidden": true
    }
   },
   "outputs": [],
   "source": [
    "%run ./postgres_to_unity_catalog_library.py"
   ]
  },
  {
   "cell_type": "code",
   "execution_count": 0,
   "metadata": {
    "application/vnd.databricks.v1+cell": {
     "cellMetadata": {
      "byteLimit": 2048000,
      "rowLimit": 10000
     },
     "inputWidgets": {},
     "nuid": "b6205bdd-9f25-45f2-986f-a8d8fecf546a",
     "showTitle": false,
     "tableResultSettingsMap": {},
     "title": ""
    }
   },
   "outputs": [],
   "source": [
    "print(\"\\n--- Executando a carga para CS2 Premier ---\")\n",
    "ingest_data_to_unity_catalog(\n",
    "    catalog_name=\"main\",\n",
    "    schema_name=\"landing\",\n",
    "    table_name=\"lnd_db_nb__external_matches_cs2_premier\",\n",
    "    base_sql_query_template=\"SELECT id,created_at,updated_at,status,metadata::TEXT,external_id,external_gamemode  FROM external_matches WHERE external_gamemode::text = 'CS2EXTERNALRANKED'\",\n",
    ")\n"
   ]
  },
  {
   "cell_type": "code",
   "execution_count": 0,
   "metadata": {
    "application/vnd.databricks.v1+cell": {
     "cellMetadata": {
      "byteLimit": 2048000,
      "rowLimit": 10000
     },
     "inputWidgets": {},
     "nuid": "8e6e1a83-4e61-46d4-8dd5-251824092ef5",
     "showTitle": false,
     "tableResultSettingsMap": {},
     "title": ""
    }
   },
   "outputs": [],
   "source": [
    "print(\"\\n--- Executando a carga para TFT ---\")\n",
    "ingest_data_to_unity_catalog(\n",
    "    catalog_name=\"main\",\n",
    "    schema_name=\"landing\",\n",
    "    table_name=\"lnd_db_nb__external_matches_tft\",\n",
    "    base_sql_query_template=\"SELECT id,created_at,updated_at,status,metadata::TEXT,external_id,external_gamemode FROM external_matches WHERE external_gamemode::text = 'TFTEXTERNALRANKED'\",\n",
    ")\n"
   ]
  },
  {
   "cell_type": "code",
   "execution_count": 0,
   "metadata": {
    "application/vnd.databricks.v1+cell": {
     "cellMetadata": {
      "byteLimit": 2048000,
      "rowLimit": 10000
     },
     "inputWidgets": {},
     "nuid": "83f68130-3b7d-44a8-970a-1ee3838d4325",
     "showTitle": false,
     "tableResultSettingsMap": {},
     "title": ""
    }
   },
   "outputs": [],
   "source": [
    "print(\"\\n--- Executando a carga para LOL ARAM ---\")\n",
    "ingest_data_to_unity_catalog(\n",
    "    catalog_name=\"main\",\n",
    "    schema_name=\"landing\",\n",
    "    table_name=\"lnd_db_nb__external_matches_lol_aram\",\n",
    "    base_sql_query_template=\"SELECT id,created_at,updated_at,status,metadata::TEXT,external_id,external_gamemode FROM external_matches WHERE external_gamemode::text = 'LOLEXTERNALARAM'\",\n",
    ")\n"
   ]
  },
  {
   "cell_type": "code",
   "execution_count": 0,
   "metadata": {
    "application/vnd.databricks.v1+cell": {
     "cellMetadata": {
      "byteLimit": 2048000,
      "rowLimit": 10000
     },
     "inputWidgets": {},
     "nuid": "2804cf38-8f65-476c-9f8b-4f71432171dd",
     "showTitle": false,
     "tableResultSettingsMap": {},
     "title": ""
    }
   },
   "outputs": [],
   "source": [
    "print(\"\\n--- Executando a carga para LOL FLEX ---\")\n",
    "ingest_data_to_unity_catalog(\n",
    "    catalog_name=\"main\",\n",
    "    schema_name=\"landing\",\n",
    "    table_name=\"lnd_db_nb__external_matches_lol_flex\",\n",
    "    base_sql_query_template=\"SELECT id,created_at,updated_at,status,metadata::TEXT,external_id,external_gamemode FROM external_matches WHERE external_gamemode::text = 'LOLEXTERNALFLEX'\",\n",
    ")\n"
   ]
  },
  {
   "cell_type": "code",
   "execution_count": 0,
   "metadata": {
    "application/vnd.databricks.v1+cell": {
     "cellMetadata": {
      "byteLimit": 2048000,
      "rowLimit": 10000
     },
     "inputWidgets": {},
     "nuid": "e05a5bc4-bfad-4f73-abe0-b40c5cecb8e1",
     "showTitle": false,
     "tableResultSettingsMap": {},
     "title": ""
    }
   },
   "outputs": [],
   "source": [
    "print(\"\\n--- Executando a carga para LOL 5V5 ---\")\n",
    "ingest_data_to_unity_catalog(\n",
    "    catalog_name=\"main\",\n",
    "    schema_name=\"landing\",\n",
    "    table_name=\"lnd_db_nb__external_matches_lol_fvf\",\n",
    "    base_sql_query_template=\"SELECT id,created_at,updated_at,status,metadata::TEXT,external_id,external_gamemode FROM external_matches WHERE external_gamemode::text = 'LOLEXTERNAL5V5'\",\n",
    ")\n"
   ]
  },
  {
   "cell_type": "code",
   "execution_count": 0,
   "metadata": {
    "application/vnd.databricks.v1+cell": {
     "cellMetadata": {
      "byteLimit": 2048000,
      "rowLimit": 10000
     },
     "inputWidgets": {},
     "nuid": "551c9e3c-af66-4ee7-b496-0789bbe6e7df",
     "showTitle": false,
     "tableResultSettingsMap": {},
     "title": ""
    }
   },
   "outputs": [],
   "source": [
    "print(\"\\n--- Executando a carga para Valorant ---\")\n",
    "ingest_data_to_unity_catalog(\n",
    "    catalog_name=\"main\",\n",
    "    schema_name=\"landing\",\n",
    "    table_name=\"lnd_db_nb__external_matches_val\",\n",
    "    base_sql_query_template=\"SELECT id,created_at,updated_at,status,metadata::TEXT,external_id,external_gamemode FROM external_matches WHERE external_gamemode::text = 'VALEXTERNALRANKED'\",\n",
    "    increment_interval_hours=2,\n",
    ")\n"
   ]
  },
  {
   "cell_type": "code",
   "execution_count": 0,
   "metadata": {
    "application/vnd.databricks.v1+cell": {
     "cellMetadata": {
      "byteLimit": 2048000,
      "rowLimit": 10000
     },
     "inputWidgets": {},
     "nuid": "cceb63ac-b784-4a68-bd88-2833aeacc420",
     "showTitle": false,
     "tableResultSettingsMap": {},
     "title": ""
    }
   },
   "outputs": [],
   "source": [
    "print(\"\\n--- Executando a carga para Valorant Statistics ---\")\n",
    "ingest_data_to_unity_catalog(\n",
    "    catalog_name=\"main\",\n",
    "    schema_name=\"landing\",\n",
    "    table_name=\"lnd_db_nb__external_match_players_statistics\",\n",
    "    base_sql_query_template=\"select id, updated_at, statistics::text from external_match_players where statistics is not null\",\n",
    "    initial_start_dt_str='2025-01-30T15:47:05.688'\n",
    ")"
   ]
  }
 ],
 "metadata": {
  "application/vnd.databricks.v1+notebook": {
   "computePreferences": {
    "hardware": {
     "accelerator": null,
     "gpuPoolId": null,
     "memory": null
    }
   },
   "dashboards": [],
   "environmentMetadata": {
    "base_environment": "",
    "environment_version": "2"
   },
   "inputWidgetPreferences": null,
   "language": "python",
   "notebookMetadata": {
    "pythonIndentUnit": 4
   },
   "notebookName": "load_external_matches",
   "widgets": {}
  },
  "language_info": {
   "name": "python"
  }
 },
 "nbformat": 4,
 "nbformat_minor": 0
}
